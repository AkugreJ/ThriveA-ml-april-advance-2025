{
 "cells": [
  {
   "cell_type": "markdown",
   "id": "089bd670",
   "metadata": {},
   "source": [
    "# Normalization vs Standardization Demo Notebook"
   ]
  },
  {
   "cell_type": "code",
   "execution_count": null,
   "id": "3db72101",
   "metadata": {},
   "outputs": [],
   "source": [
    "\n",
    "# 1. Imports\n",
    "import numpy as np\n",
    "import pandas as pd\n",
    "import matplotlib.pyplot as plt\n",
    "import seaborn as sns\n",
    "\n",
    "from sklearn.datasets import fetch_california_housing\n",
    "from sklearn.model_selection import train_test_split\n",
    "from sklearn.preprocessing import MinMaxScaler, StandardScaler\n",
    "from sklearn.linear_model import LinearRegression\n",
    "from sklearn.metrics import mean_squared_error, r2_score\n"
   ]
  },
  {
   "cell_type": "code",
   "execution_count": null,
   "id": "6ed8c860",
   "metadata": {},
   "outputs": [],
   "source": [
    "\n",
    "# 2. Load Sample Data\n",
    "data = fetch_california_housing()\n",
    "X = pd.DataFrame(data.data, columns=data.feature_names)\n",
    "y = data.target\n",
    "\n",
    "print(\"Sample Data:\")\n",
    "print(X.head())\n"
   ]
  },
  {
   "cell_type": "code",
   "execution_count": null,
   "id": "b19284a7",
   "metadata": {},
   "outputs": [],
   "source": [
    "\n",
    "# 3. Quick look at feature scales\n",
    "plt.figure(figsize=(10,5))\n",
    "sns.boxplot(data=X)\n",
    "plt.title('Feature Scales Before Normalization/Standardization')\n",
    "plt.xticks(rotation=90)\n",
    "plt.show()\n"
   ]
  },
  {
   "cell_type": "code",
   "execution_count": null,
   "id": "e8907dec",
   "metadata": {},
   "outputs": [],
   "source": [
    "\n",
    "# 4. Normalization (Min-Max Scaling)\n",
    "scaler_norm = MinMaxScaler()\n",
    "X_normalized = scaler_norm.fit_transform(X)\n"
   ]
  },
  {
   "cell_type": "code",
   "execution_count": null,
   "id": "b0b37adb",
   "metadata": {},
   "outputs": [],
   "source": [
    "\n",
    "# 5. Standardization (Z-Score Scaling)\n",
    "scaler_std = StandardScaler()\n",
    "X_standardized = scaler_std.fit_transform(X)\n"
   ]
  },
  {
   "cell_type": "code",
   "execution_count": null,
   "id": "79fc2fa4",
   "metadata": {},
   "outputs": [],
   "source": [
    "\n",
    "# 6. Compare a Feature before and after\n",
    "feature_idx = 0  # MedInc\n",
    "\n",
    "plt.figure(figsize=(15,5))\n",
    "plt.subplot(1,3,1)\n",
    "plt.hist(X.iloc[:, feature_idx], bins=30)\n",
    "plt.title('Original: ' + X.columns[feature_idx])\n",
    "\n",
    "plt.subplot(1,3,2)\n",
    "plt.hist(X_normalized[:, feature_idx], bins=30)\n",
    "plt.title('Normalized')\n",
    "\n",
    "plt.subplot(1,3,3)\n",
    "plt.hist(X_standardized[:, feature_idx], bins=30)\n",
    "plt.title('Standardized')\n",
    "\n",
    "plt.show()\n"
   ]
  },
  {
   "cell_type": "code",
   "execution_count": null,
   "id": "4fbd4380",
   "metadata": {},
   "outputs": [],
   "source": [
    "\n",
    "# 7. Train-Test Split\n",
    "X_train_norm, X_test_norm, y_train_norm, y_test_norm = train_test_split(X_normalized, y, test_size=0.2, random_state=42)\n",
    "X_train_std, X_test_std, y_train_std, y_test_std = train_test_split(X_standardized, y, test_size=0.2, random_state=42)\n"
   ]
  },
  {
   "cell_type": "code",
   "execution_count": null,
   "id": "a6ab55fd",
   "metadata": {},
   "outputs": [],
   "source": [
    "\n",
    "# 8. Train Models\n",
    "model_norm = LinearRegression()\n",
    "model_norm.fit(X_train_norm, y_train_norm)\n",
    "y_pred_norm = model_norm.predict(X_test_norm)\n",
    "\n",
    "model_std = LinearRegression()\n",
    "model_std.fit(X_train_std, y_train_std)\n",
    "y_pred_std = model_std.predict(X_test_std)\n"
   ]
  },
  {
   "cell_type": "code",
   "execution_count": null,
   "id": "13ccb5f9",
   "metadata": {},
   "outputs": [],
   "source": [
    "\n",
    "# 9. Evaluate\n",
    "print(\"--- Normalized Data ---\")\n",
    "print(\"MSE:\", mean_squared_error(y_test_norm, y_pred_norm))\n",
    "print(\"R2:\", r2_score(y_test_norm, y_pred_norm))\n",
    "\n",
    "print(\"\\n--- Standardized Data ---\")\n",
    "print(\"MSE:\", mean_squared_error(y_test_std, y_pred_std))\n",
    "print(\"R2:\", r2_score(y_test_std, y_pred_std))\n"
   ]
  },
  {
   "cell_type": "code",
   "execution_count": null,
   "id": "32fc495e",
   "metadata": {},
   "outputs": [],
   "source": [
    "\n",
    "# 10. Quick Summary\n",
    "print(\"\"\"\n",
    "Summary:\n",
    "- Normalization squashes features into [0,1].\n",
    "- Standardization centers features to mean=0 and std=1.\n",
    "- Both can improve model performance by helping models converge faster and perform better.\n",
    "\"\"\")\n"
   ]
  }
 ],
 "metadata": {},
 "nbformat": 4,
 "nbformat_minor": 5
}