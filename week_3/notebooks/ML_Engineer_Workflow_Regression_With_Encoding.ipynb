{
 "cells": [
  {
   "cell_type": "markdown",
   "id": "aae76534",
   "metadata": {},
   "source": [
    "# ML Engineer Workflow Demo Notebook (Regression)\n",
    "\n",
    "This notebook demonstrates a typical ML engineering workflow for a **regression** problem:\n",
    "1. Data Generation & Importation\n",
    "2. Exploratory Data Analysis (EDA)\n",
    "3. Feature Engineering (including encoding)\n",
    "4. Model Building\n",
    "5. Model Evaluation"
   ]
  },
  {
   "cell_type": "markdown",
   "id": "74d06481",
   "metadata": {},
   "source": [
    "## 1. Data Generation & Importation\n",
    "\n",
    "Generate synthetic regression data and add a categorical feature."
   ]
  },
  {
   "cell_type": "code",
   "execution_count": null,
   "id": "c834500f",
   "metadata": {},
   "outputs": [],
   "source": [
    "from sklearn.datasets import make_regression\n",
    "import pandas as pd\n",
    "import numpy as np\n",
    "\n",
    "# Generate synthetic regression data\n",
    "X, y = make_regression(n_samples=1000, n_features=8, n_informative=5,\n",
    "                       noise=10.0, random_state=42)\n",
    "\n",
    "# Create DataFrame\n",
    "df = pd.DataFrame(X, columns=[f\"feature_{i}\" for i in range(X.shape[1])])\n",
    "df['target'] = y\n",
    "\n",
    "# Add a categorical feature for encoding demo\n",
    "df['category'] = np.random.choice(['A', 'B', 'C'], size=df.shape[0])\n",
    "df.head()"
   ]
  },
  {
   "cell_type": "markdown",
   "id": "4174d4b1",
   "metadata": {},
   "source": [
    "## 2. Exploratory Data Analysis (EDA)\n",
    "\n",
    "Inspect distributions and look at category counts."
   ]
  },
  {
   "cell_type": "code",
   "execution_count": null,
   "id": "9a695545",
   "metadata": {},
   "outputs": [],
   "source": [
    "# Summary and category counts\n",
    "print(df.describe())\n",
    "print(df['category'].value_counts())"
   ]
  },
  {
   "cell_type": "markdown",
   "id": "f12b951b",
   "metadata": {},
   "source": [
    "## 3. Feature Engineering\n",
    "\n",
    "### 3.1 Interaction and Scaling\n",
    "\n",
    "- Interaction term\n",
    "- Standard scaling"
   ]
  },
  {
   "cell_type": "code",
   "execution_count": null,
   "id": "c2403a83",
   "metadata": {},
   "outputs": [],
   "source": [
    "# Interaction term\n",
    "df['feat0_x_feat1'] = df['feature_0'] * df['feature_1']\n",
    "\n",
    "# Scaling numeric features\n",
    "from sklearn.preprocessing import StandardScaler\n",
    "scaler = StandardScaler()\n",
    "num_features = [col for col in df.columns if col.startswith('feature_') or col=='feat0_x_feat1']\n",
    "df[num_features] = scaler.fit_transform(df[num_features])\n",
    "df.head()"
   ]
  },
  {
   "cell_type": "markdown",
   "id": "5f017139",
   "metadata": {},
   "source": [
    "### 3.2 Encoding Categorical Features\n",
    "\n",
    "- **Label Encoding**: Convert categories to integers\n",
    "- **One-Hot Encoding**: Create binary columns for each category"
   ]
  },
  {
   "cell_type": "code",
   "execution_count": null,
   "id": "012c8871",
   "metadata": {},
   "outputs": [],
   "source": [
    "# Label Encoding\n",
    "from sklearn.preprocessing import LabelEncoder, OneHotEncoder\n",
    "\n",
    "le = LabelEncoder()\n",
    "df['category_label'] = le.fit_transform(df['category'])\n",
    "\n",
    "# One-Hot Encoding\n",
    "df_ohe = pd.get_dummies(df['category'], prefix='cat')\n",
    "df = pd.concat([df, df_ohe], axis=1)\n",
    "\n",
    "df.drop('category', axis=1, inplace=True)\n",
    "df.head()"
   ]
  },
  {
   "cell_type": "markdown",
   "id": "b21defdb",
   "metadata": {},
   "source": [
    "## 4. Model Building\n",
    "\n",
    "Train a Linear Regression model."
   ]
  },
  {
   "cell_type": "code",
   "execution_count": null,
   "id": "2ae6cc4f",
   "metadata": {},
   "outputs": [],
   "source": [
    "from sklearn.model_selection import train_test_split\n",
    "from sklearn.linear_model import LinearRegression\n",
    "\n",
    "# Features and target\n",
    "X = df.drop(['target'], axis=1)\n",
    "y = df['target']\n",
    "\n",
    "# Train-test split\n",
    "X_train, X_test, y_train, y_test = train_test_split(X, y, test_size=0.2, random_state=42)\n",
    "\n",
    "# Train model\n",
    "model = LinearRegression()\n",
    "model.fit(X_train, y_train)"
   ]
  },
  {
   "cell_type": "markdown",
   "id": "6f8c511e",
   "metadata": {},
   "source": [
    "## 5. Model Evaluation\n",
    "\n",
    "Evaluate using MSE and R², and plot predictions vs actual."
   ]
  },
  {
   "cell_type": "code",
   "execution_count": null,
   "id": "1918c508",
   "metadata": {},
   "outputs": [],
   "source": [
    "from sklearn.metrics import mean_squared_error, r2_score\n",
    "import matplotlib.pyplot as plt\n",
    "\n",
    "# Predictions\n",
    "y_pred = model.predict(X_test)\n",
    "\n",
    "# Metrics\n",
    "print(\"MSE:\", mean_squared_error(y_test, y_pred))\n",
    "print(\"R²:\", r2_score(y_test, y_pred))\n",
    "\n",
    "# Plot\n",
    "plt.figure(figsize=(6,6))\n",
    "plt.scatter(y_test, y_pred, alpha=0.5)\n",
    "plt.plot([y_test.min(), y_test.max()], [y_test.min(), y_test.max()], 'k--')\n",
    "plt.xlabel('Actual')\n",
    "plt.ylabel('Predicted')\n",
    "plt.title('Actual vs Predicted')\n",
    "plt.show()"
   ]
  }
 ],
 "metadata": {},
 "nbformat": 4,
 "nbformat_minor": 5
}
