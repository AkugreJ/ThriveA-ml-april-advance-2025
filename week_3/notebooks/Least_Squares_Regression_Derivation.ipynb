{
 "cells": [
  {
   "cell_type": "markdown",
   "id": "d010a06b",
   "metadata": {},
   "source": [
    "# Deriving Least Squares Solution for Linear Regression"
   ]
  },
  {
   "cell_type": "markdown",
   "id": "7def9281",
   "metadata": {},
   "source": [
    "We start with the cost function used in linear regression:"
   ]
  },
  {
   "cell_type": "code",
   "execution_count": null,
   "id": "4ad2de1a",
   "metadata": {},
   "outputs": [],
   "source": [
    "E = sum((y_i - (a * x_i + b))**2 for i in range(N))"
   ]
  },
  {
   "cell_type": "markdown",
   "id": "134e85a2",
   "metadata": {},
   "source": [
    "## Step 1: Compute Partial Derivatives"
   ]
  },
  {
   "cell_type": "code",
   "execution_count": null,
   "id": "8655e93d",
   "metadata": {},
   "outputs": [],
   "source": [
    "dE_da = -2 * sum(x_i * (y_i - (a * x_i + b)) for i in range(N))\n",
    "dE_db = -2 * sum((y_i - (a * x_i + b)) for i in range(N))"
   ]
  },
  {
   "cell_type": "markdown",
   "id": "0bc36707",
   "metadata": {},
   "source": [
    "## Step 2: Set the derivatives to zero to minimize E"
   ]
  },
  {
   "cell_type": "code",
   "execution_count": null,
   "id": "0ad4705b",
   "metadata": {},
   "outputs": [],
   "source": [
    "# Setting derivatives to zero:\n",
    "# sum(x_i * (y_i - a * x_i - b)) = 0\n",
    "# sum(y_i - a * x_i - b) = 0"
   ]
  },
  {
   "cell_type": "markdown",
   "id": "41632483",
   "metadata": {},
   "source": [
    "## Step 3: Expand both equations using shorthand notation"
   ]
  },
  {
   "cell_type": "code",
   "execution_count": null,
   "id": "9043b11f",
   "metadata": {},
   "outputs": [],
   "source": [
    "# Let:\n",
    "S_x  = sum(x_i)\n",
    "S_y  = sum(y_i)\n",
    "S_xx = sum(x_i**2)\n",
    "S_xy = sum(x_i * y_i)\n",
    "N    = number of data points"
   ]
  },
  {
   "cell_type": "code",
   "execution_count": null,
   "id": "00661dfc",
   "metadata": {},
   "outputs": [],
   "source": [
    "# Equations become:\n",
    "# S_xy - a * S_xx - b * S_x = 0        # Equation 1\n",
    "# S_y  - a * S_x  - b * N   = 0        # Equation 2"
   ]
  },
  {
   "cell_type": "markdown",
   "id": "6f4fa1f8",
   "metadata": {},
   "source": [
    "## Step 4: Solve for a and b"
   ]
  },
  {
   "cell_type": "code",
   "execution_count": null,
   "id": "16496247",
   "metadata": {},
   "outputs": [],
   "source": [
    "# From Equation 2:\n",
    "b = (S_y - a * S_x) / N"
   ]
  },
  {
   "cell_type": "code",
   "execution_count": null,
   "id": "462e7ebc",
   "metadata": {},
   "outputs": [],
   "source": [
    "# Substitute into Equation 1 and solve for a:\n",
    "a = (N * S_xy - S_x * S_y) / (N * S_xx - S_x**2)"
   ]
  },
  {
   "cell_type": "code",
   "execution_count": null,
   "id": "3e2f8ddd",
   "metadata": {},
   "outputs": [],
   "source": [
    "# Plug a back into the equation for b:\n",
    "b = (S_y - a * S_x) / N"
   ]
  },
  {
   "cell_type": "markdown",
   "id": "9c55377c",
   "metadata": {},
   "source": [
    "## Final Closed-form Expressions"
   ]
  },
  {
   "cell_type": "code",
   "execution_count": null,
   "id": "a318ce8a",
   "metadata": {},
   "outputs": [],
   "source": [
    "a = (N * sum(x_i * y_i) - sum(x_i) * sum(y_i)) / (N * sum(x_i**2) - (sum(x_i))**2)\n",
    "b = (sum(y_i) - a * sum(x_i)) / N"
   ]
  }
 ],
 "metadata": {},
 "nbformat": 4,
 "nbformat_minor": 5
}
