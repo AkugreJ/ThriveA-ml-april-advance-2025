{
 "cells": [
  {
   "cell_type": "markdown",
   "id": "758ae4c5",
   "metadata": {},
   "source": [
    "# Deriving Least Squares Solution for Linear Regression"
   ]
  },
  {
   "cell_type": "markdown",
   "id": "1beecaf3",
   "metadata": {},
   "source": [
    "We begin with the cost function used in simple linear regression, which aims to minimize the squared difference between predicted and actual values."
   ]
  },
  {
   "cell_type": "code",
   "execution_count": null,
   "id": "9b0263a5",
   "metadata": {},
   "outputs": [],
   "source": [
    "# Cost Function\n",
    "E = sum((y_i - (a * x_i + b))**2 for i in range(N))"
   ]
  },
  {
   "cell_type": "markdown",
   "id": "7ba058b5",
   "metadata": {},
   "source": [
    "## Step 1: Compute the Partial Derivatives\n",
    "We compute the partial derivatives of E with respect to both parameters a and b."
   ]
  },
  {
   "cell_type": "code",
   "execution_count": null,
   "id": "907b7f45",
   "metadata": {},
   "outputs": [],
   "source": [
    "dE_da = -2 * sum(x_i * (y_i - (a * x_i + b)) for i in range(N))\n",
    "dE_db = -2 * sum((y_i - (a * x_i + b)) for i in range(N))"
   ]
  },
  {
   "cell_type": "markdown",
   "id": "9907e1c4",
   "metadata": {},
   "source": [
    "## Step 2: Set the derivatives to zero to find the minimum\n",
    "To minimize the error, we set the derivatives equal to zero."
   ]
  },
  {
   "cell_type": "code",
   "execution_count": null,
   "id": "ae5efec9",
   "metadata": {},
   "outputs": [],
   "source": [
    "# Set derivatives to zero\n",
    "# sum(x_i * (y_i - a * x_i - b)) = 0\n",
    "# sum(y_i - a * x_i - b) = 0"
   ]
  },
  {
   "cell_type": "markdown",
   "id": "eb0c49ac",
   "metadata": {},
   "source": [
    "## Step 3: Use summation shorthand\n",
    "To simplify, we use the following notation:\n",
    "- S_x  = sum x_i\n",
    "- S_y  = sum y_i\n",
    "- S_xx = sum x_i^2\n",
    "- S_xy = sum x_i * y_i\n",
    "- N    = number of data points"
   ]
  },
  {
   "cell_type": "code",
   "execution_count": null,
   "id": "aea3b2af",
   "metadata": {},
   "outputs": [],
   "source": [
    "# Rewriting equations using shorthand\n",
    "# Equation 1: S_xy - a * S_xx - b * S_x = 0\n",
    "# Equation 2: S_y - a * S_x - b * N = 0"
   ]
  },
  {
   "cell_type": "markdown",
   "id": "0640549f",
   "metadata": {},
   "source": [
    "## Step 4: Solve for 'a' using Equation 1 and 2\n",
    "First, solve Equation 2 for b and substitute into Equation 1."
   ]
  },
  {
   "cell_type": "code",
   "execution_count": null,
   "id": "446433f9",
   "metadata": {},
   "outputs": [],
   "source": [
    "b = (S_y - a * S_x) / N"
   ]
  },
  {
   "cell_type": "code",
   "execution_count": null,
   "id": "046f6c93",
   "metadata": {},
   "outputs": [],
   "source": [
    "a = (N * S_xy - S_x * S_y) / (N * S_xx - S_x**2)"
   ]
  },
  {
   "cell_type": "markdown",
   "id": "63d1dc75",
   "metadata": {},
   "source": [
    "## Step 5: Solve for 'b' using the solved value of 'a'"
   ]
  },
  {
   "cell_type": "code",
   "execution_count": null,
   "id": "711bc2ce",
   "metadata": {},
   "outputs": [],
   "source": [
    "b = (S_y - a * S_x) / N"
   ]
  },
  {
   "cell_type": "markdown",
   "id": "7fa2a8c8",
   "metadata": {},
   "source": [
    "## Final Closed-form Expressions for Linear Regression Coefficients"
   ]
  },
  {
   "cell_type": "code",
   "execution_count": null,
   "id": "97704633",
   "metadata": {},
   "outputs": [],
   "source": [
    "a = (N * sum(x_i * y_i) - sum(x_i) * sum(y_i)) / (N * sum(x_i**2) - (sum(x_i))**2)\n",
    "b = (sum(y_i) - a * sum(x_i)) / N"
   ]
  }
 ],
 "metadata": {},
 "nbformat": 4,
 "nbformat_minor": 5
}
