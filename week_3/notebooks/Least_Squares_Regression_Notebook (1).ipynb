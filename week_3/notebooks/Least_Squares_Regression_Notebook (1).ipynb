{
  "cells": [
    {
      "cell_type": "markdown",
      "id": "758ae4c5",
      "metadata": {
        "id": "758ae4c5"
      },
      "source": [
        "# Deriving Least Squares Solution for Linear Regression"
      ]
    },
    {
      "cell_type": "markdown",
      "id": "1beecaf3",
      "metadata": {
        "id": "1beecaf3"
      },
      "source": [
        "We begin with the cost function used in simple linear regression, which aims to minimize the squared difference between predicted and actual values."
      ]
    },
    {
      "cell_type": "code",
      "source": [
        "x = [1, 2, 3, 4, 5]\n",
        "y = [2, 4, 5, 4, 5]\n",
        "N = len(x)\n",
        "S_x = sum(x)\n",
        "S_y = sum(y)\n",
        "S_xx = sum(i**2 for i in x)\n",
        "S_xy = sum(x[i] * y[i] for i in range(N))\n",
        "\n",
        "a = (N * S_xy - S_x * S_y) / (N * S_xx - S_x**2)\n",
        "b = (S_y - a * S_x) / N\n"
      ],
      "metadata": {
        "id": "khYpG0bV_sMv"
      },
      "id": "khYpG0bV_sMv",
      "execution_count": 9,
      "outputs": []
    },
    {
      "cell_type": "markdown",
      "id": "7ba058b5",
      "metadata": {
        "id": "7ba058b5"
      },
      "source": [
        "## Step 1: Compute the Partial Derivatives\n",
        "We compute the partial derivatives of E with respect to both parameters a and b."
      ]
    },
    {
      "cell_type": "markdown",
      "source": [
        "## Cost Function\n",
        "\n",
        "We define the cost function \\( E \\) as:\n",
        "\n",
        "    E = Σ (y_i - (a * x_i + b))²  \n",
        "    for i = 1 to N\n",
        "\n",
        "This represents the sum of squared errors between predicted and actual values.\n",
        "\n",
        "---\n",
        "\n",
        "## Partial Derivatives\n",
        "\n",
        "To minimize the error, we compute the partial derivatives of \\( E \\) with respect to the parameters \\( a \\) and \\( b \\).\n",
        "\n",
        "**Partial derivative with respect to a:**\n",
        "\n",
        "    ∂E/∂a = -2 * Σ [x_i * (y_i - (a * x_i + b))]\n",
        "\n",
        "**Partial derivative with respect to b:**\n",
        "\n",
        "    ∂E/∂b = -2 * Σ [y_i - (a * x_i + b)]\n",
        "\n",
        "---\n",
        "\n",
        "## Setting Derivatives to Zero\n",
        "\n",
        "To minimize the error \\( E \\), we set both partial derivatives to zero:\n",
        "\n",
        "    ∂E/∂a = 0\n",
        "    ∂E/∂b = 0\n"
      ],
      "metadata": {
        "id": "GWpHRn1qBUuJ"
      },
      "id": "GWpHRn1qBUuJ"
    },
    {
      "cell_type": "code",
      "execution_count": 4,
      "id": "9b0263a5",
      "metadata": {
        "id": "9b0263a5"
      },
      "outputs": [],
      "source": [
        "# Cost Function\n",
        "E = sum((y[i] - (a * x[i] + b))**2 for i in range(N))\n"
      ]
    },
    {
      "cell_type": "code",
      "source": [
        "E"
      ],
      "metadata": {
        "colab": {
          "base_uri": "https://localhost:8080/"
        },
        "id": "x93v3md6_9OA",
        "outputId": "2353b647-fb1d-4f08-d4d9-a04e4c9e1a0e"
      },
      "id": "x93v3md6_9OA",
      "execution_count": 5,
      "outputs": [
        {
          "output_type": "execute_result",
          "data": {
            "text/plain": [
              "13.75"
            ]
          },
          "metadata": {},
          "execution_count": 5
        }
      ]
    },
    {
      "cell_type": "code",
      "execution_count": 6,
      "id": "907b7f45",
      "metadata": {
        "id": "907b7f45"
      },
      "outputs": [],
      "source": [
        "dE_da = -2 * sum(x[i] * (y[i] - (a * x[i] + b)) for i in range(N))\n",
        "dE_db = -2 * sum((y[i] - (a * x[i] + b)) for i in range(N))\n"
      ]
    },
    {
      "cell_type": "code",
      "source": [
        "dE_da\n",
        "dE_db\n"
      ],
      "metadata": {
        "colab": {
          "base_uri": "https://localhost:8080/"
        },
        "id": "TBtXaVuJAGHq",
        "outputId": "1c8ca271-944e-4a43-c5a4-419cf8dac32b"
      },
      "id": "TBtXaVuJAGHq",
      "execution_count": 7,
      "outputs": [
        {
          "output_type": "execute_result",
          "data": {
            "text/plain": [
              "-15.0"
            ]
          },
          "metadata": {},
          "execution_count": 7
        }
      ]
    },
    {
      "cell_type": "markdown",
      "id": "9907e1c4",
      "metadata": {
        "id": "9907e1c4"
      },
      "source": [
        "## Step 2: Set the derivatives to zero to find the minimum\n",
        "To minimize the error, we set the derivatives equal to zero."
      ]
    },
    {
      "cell_type": "code",
      "source": [],
      "metadata": {
        "id": "V6pncCHbAFS9"
      },
      "id": "V6pncCHbAFS9",
      "execution_count": null,
      "outputs": []
    },
    {
      "cell_type": "markdown",
      "source": [
        "## Step 2: Set the Derivatives to Zero -Code\n",
        "To minimize the cost function, we set the gradients to zero:\n",
        "\n",
        "    sum(x[i] * (y[i] - a * x[i] - b)) = 0\n",
        "    sum(y[i] - a * x[i] - b) = 0\n"
      ],
      "metadata": {
        "id": "FnEjjrQuAU77"
      },
      "id": "FnEjjrQuAU77"
    },
    {
      "cell_type": "markdown",
      "source": [
        "## Step 1: Set the Partial Derivatives to Zero\n",
        "\n",
        "To minimize the error function:\n",
        "\n",
        "    E = Σ (y_i - (a * x_i + b))²\n",
        "\n",
        "We take the partial derivatives with respect to `a` and `b` and set them to zero.\n",
        "\n",
        "**Partial derivative with respect to `a`:**\n",
        "\n",
        "    ∂E/∂a = -2 * Σ [x_i * (y_i - a * x_i - b)] = 0\n",
        "\n",
        "**Partial derivative with respect to `b`:**\n",
        "\n",
        "    ∂E/∂b = -2 * Σ [y_i - a * x_i - b] = 0\n"
      ],
      "metadata": {
        "id": "v9dd-BAlBhA8"
      },
      "id": "v9dd-BAlBhA8"
    },
    {
      "cell_type": "markdown",
      "id": "eb0c49ac",
      "metadata": {
        "id": "eb0c49ac"
      },
      "source": [
        "## Step 3: Rewriting the Equations Using Summation Shorthand\n",
        "\n",
        "Let:\n",
        "- S_x  = sum of all x values\n",
        "- S_y  = sum of all y values\n",
        "- S_xx = sum of x squared\n",
        "- S_xy = sum of x * y\n",
        "- N    = number of data points\n",
        "\n",
        "This leads to the following system of equations:\n",
        "\n",
        "    Equation 1: S_xy - a * S_xx - b * S_x = 0  \n",
        "    Equation 2: S_y - a * S_x - b * N = 0\n"
      ]
    },
    {
      "cell_type": "markdown",
      "id": "0640549f",
      "metadata": {
        "id": "0640549f"
      },
      "source": [
        "## Step 4: Solve for 'a' using Equation 1 and 2\n",
        "First, solve Equation 2 for b and substitute into Equation 1."
      ]
    },
    {
      "cell_type": "markdown",
      "source": [
        "## Step 4: Solve the System of Equations\n",
        "\n",
        "We now solve for `a` and `b` using the system of equations derived from setting the partial derivatives to zero.\n",
        "\n",
        "From Equation (2):\n",
        "\n",
        "    b = (S_y - a * S_x) / N\n",
        "\n",
        "Substitute this expression for `b` into Equation (1):\n",
        "\n",
        "    S_xy - a * S_xx - [(S_y - a * S_x) / N] * S_x = 0\n",
        "\n",
        "Multiply the entire equation by `N` to eliminate the denominator:\n",
        "\n",
        "    N * S_xy - a * N * S_xx - S_x * (S_y - a * S_x) = 0\n",
        "\n",
        "Distribute the terms:\n",
        "\n",
        "    N * S_xy - a * N * S_xx - S_x * S_y + a * S_x^2 = 0\n",
        "\n",
        "Group like terms:\n",
        "\n",
        "    a * (S_x^2 - N * S_xx) = N * S_xy - S_x * S_y\n",
        "\n",
        "Solve for `a`:\n",
        "\n",
        "    a = (N * S_xy - S_x * S_y) / (N * S_xx - S_x^2)\n"
      ],
      "metadata": {
        "id": "kJ22-WheCtlE"
      },
      "id": "kJ22-WheCtlE"
    },
    {
      "cell_type": "code",
      "execution_count": 10,
      "id": "446433f9",
      "metadata": {
        "id": "446433f9"
      },
      "outputs": [],
      "source": [
        "b = (S_y - a * S_x) / N"
      ]
    },
    {
      "cell_type": "code",
      "source": [
        "b"
      ],
      "metadata": {
        "colab": {
          "base_uri": "https://localhost:8080/"
        },
        "id": "L8NCjfjiA4ZO",
        "outputId": "9b3ec747-fea0-4555-d3d4-9c176aa05ef6"
      },
      "id": "L8NCjfjiA4ZO",
      "execution_count": 11,
      "outputs": [
        {
          "output_type": "execute_result",
          "data": {
            "text/plain": [
              "2.2"
            ]
          },
          "metadata": {},
          "execution_count": 11
        }
      ]
    },
    {
      "cell_type": "code",
      "execution_count": 12,
      "id": "046f6c93",
      "metadata": {
        "id": "046f6c93"
      },
      "outputs": [],
      "source": [
        "a = (N * S_xy - S_x * S_y) / (N * S_xx - S_x**2)"
      ]
    },
    {
      "cell_type": "code",
      "source": [
        "a"
      ],
      "metadata": {
        "colab": {
          "base_uri": "https://localhost:8080/"
        },
        "id": "PV5s0Ag3A3e1",
        "outputId": "a19f4a1f-4e8f-49fb-953b-bf3f4c7217b4"
      },
      "id": "PV5s0Ag3A3e1",
      "execution_count": 13,
      "outputs": [
        {
          "output_type": "execute_result",
          "data": {
            "text/plain": [
              "0.6"
            ]
          },
          "metadata": {},
          "execution_count": 13
        }
      ]
    },
    {
      "cell_type": "markdown",
      "id": "7fa2a8c8",
      "metadata": {
        "id": "7fa2a8c8"
      },
      "source": [
        "## Final Closed-form Expressions for Linear Regression Coefficients"
      ]
    },
    {
      "cell_type": "markdown",
      "source": [
        "## Final Result (Closed-form Solution)\n",
        "\n",
        "We now present the final closed-form solution for the linear regression coefficients `a` and `b`.\n",
        "\n",
        "The slope `a` is:\n",
        "\n",
        "    a = [N * Σ(x_i * y_i) - Σx_i * Σy_i] / [N * Σ(x_i²) - (Σx_i)²]\n",
        "\n",
        "The intercept `b` is:\n",
        "\n",
        "    b = [Σy_i - a * Σx_i] / N\n"
      ],
      "metadata": {
        "id": "YMLtLvzQC7MY"
      },
      "id": "YMLtLvzQC7MY"
    },
    {
      "cell_type": "code",
      "execution_count": 14,
      "id": "97704633",
      "metadata": {
        "id": "97704633"
      },
      "outputs": [],
      "source": [
        "# Compute coefficients\n",
        "a = (N * S_xy - S_x * S_y) / (N * S_xx - S_x**2)\n",
        "b = (S_y - a * S_x) / N"
      ]
    },
    {
      "cell_type": "code",
      "source": [
        "a,b"
      ],
      "metadata": {
        "colab": {
          "base_uri": "https://localhost:8080/"
        },
        "id": "Jvzue6O-BJfL",
        "outputId": "a1c3fd6d-ba87-4bcf-d316-e7312cbbda86"
      },
      "id": "Jvzue6O-BJfL",
      "execution_count": 15,
      "outputs": [
        {
          "output_type": "execute_result",
          "data": {
            "text/plain": [
              "(0.6, 2.2)"
            ]
          },
          "metadata": {},
          "execution_count": 15
        }
      ]
    },
    {
      "cell_type": "code",
      "source": [],
      "metadata": {
        "id": "9dWwdi8MBLgz"
      },
      "id": "9dWwdi8MBLgz",
      "execution_count": null,
      "outputs": []
    }
  ],
  "metadata": {
    "colab": {
      "provenance": []
    },
    "language_info": {
      "name": "python"
    },
    "kernelspec": {
      "name": "python3",
      "display_name": "Python 3"
    }
  },
  "nbformat": 4,
  "nbformat_minor": 5
}