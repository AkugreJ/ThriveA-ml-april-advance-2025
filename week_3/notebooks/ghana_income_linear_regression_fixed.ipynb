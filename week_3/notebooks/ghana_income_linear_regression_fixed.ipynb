{
 "cells": [
  {
   "cell_type": "markdown",
   "id": "07973a16",
   "metadata": {},
   "source": [
    "# 📘 Linear Regression in a Ghanaian Context\n",
    "Predicting Monthly Income based on Age, Education, Region, and Job Sector"
   ]
  },
  {
   "cell_type": "code",
   "execution_count": null,
   "id": "eec9c87c",
   "metadata": {},
   "outputs": [],
   "source": [
    "# Cell 1: Imports\n",
    "import numpy as np\n",
    "import pandas as pd\n",
    "import matplotlib.pyplot as plt\n",
    "import seaborn as sns\n",
    "\n",
    "from sklearn.model_selection import train_test_split\n",
    "from sklearn.linear_model import LinearRegression\n",
    "from sklearn.preprocessing import OneHotEncoder, StandardScaler\n",
    "from sklearn.compose import ColumnTransformer\n",
    "from sklearn.pipeline import Pipeline\n",
    "from sklearn.metrics import mean_absolute_error, mean_squared_error, r2_score\n",
    "import joblib"
   ]
  },
  {
   "cell_type": "markdown",
   "id": "1055e1ae",
   "metadata": {},
   "source": [
    "### 🧪 Generate Synthetic Ghanaian Data"
   ]
  },
  {
   "cell_type": "code",
   "execution_count": null,
   "id": "515de766",
   "metadata": {},
   "outputs": [],
   "source": [
    "np.random.seed(42)\n",
    "n = 500\n",
    "\n",
    "ages = np.random.randint(20, 60, n)\n",
    "education_levels = np.random.choice(['SHS', 'Diploma', 'Degree', 'Masters'], n)\n",
    "regions = np.random.choice(['Greater Accra', 'Ashanti', 'Western', 'Northern'], n)\n",
    "job_sectors = np.random.choice(['Agriculture', 'Tech', 'Education', 'Healthcare', 'Trade'], n)\n",
    "\n",
    "education_map = {'SHS': 500, 'Diploma': 1000, 'Degree': 2000, 'Masters': 3000}\n",
    "job_bonus = {'Agriculture': 200, 'Tech': 1500, 'Education': 800, 'Healthcare': 1000, 'Trade': 700}\n",
    "region_bonus = {'Greater Accra': 400, 'Ashanti': 300, 'Western': 250, 'Northern': 100}\n",
    "\n",
    "base_salary = np.array([education_map[e] for e in education_levels])\n",
    "job_adjustment = np.array([job_bonus[j] for j in job_sectors])\n",
    "region_adjustment = np.array([region_bonus[r] for r in regions])\n",
    "noise = np.random.normal(0, 200, n)\n",
    "\n",
    "monthly_income = base_salary + job_adjustment + region_adjustment + (ages * 10) + noise\n",
    "\n",
    "data = pd.DataFrame({\n",
    "    'Age': ages,\n",
    "    'Education': education_levels,\n",
    "    'Region': regions,\n",
    "    'Job Sector': job_sectors,\n",
    "    'Monthly Income': monthly_income\n",
    "})\n",
    "\n",
    "data.head()"
   ]
  },
  {
   "cell_type": "markdown",
   "id": "98fa26a4",
   "metadata": {},
   "source": [
    "### 🔍 Exploratory Data Analysis (EDA)"
   ]
  },
  {
   "cell_type": "code",
   "execution_count": null,
   "id": "45698699",
   "metadata": {},
   "outputs": [],
   "source": [
    "print(data.describe())\n",
    "print(data.info())\n",
    "sns.pairplot(data, hue='Education')"
   ]
  },
  {
   "cell_type": "markdown",
   "id": "0b8ecce7",
   "metadata": {},
   "source": [
    "### 📊 Data Visualization"
   ]
  },
  {
   "cell_type": "code",
   "execution_count": null,
   "id": "75ba763e",
   "metadata": {},
   "outputs": [],
   "source": [
    "plt.figure(figsize=(10, 5))\n",
    "sns.boxplot(x='Education', y='Monthly Income', data=data)\n",
    "plt.title('Income by Education Level')\n",
    "\n",
    "plt.figure(figsize=(10, 5))\n",
    "sns.boxplot(x='Job Sector', y='Monthly Income', data=data)\n",
    "plt.title('Income by Job Sector')"
   ]
  },
  {
   "cell_type": "markdown",
   "id": "813d1643",
   "metadata": {},
   "source": [
    "### 🧹 Preprocessing & Feature Engineering"
   ]
  },
  {
   "cell_type": "code",
   "execution_count": null,
   "id": "25e6857d",
   "metadata": {},
   "outputs": [],
   "source": [
    "X = data.drop('Monthly Income', axis=1)\n",
    "y = data['Monthly Income']\n",
    "\n",
    "cat_cols = ['Education', 'Region', 'Job Sector']\n",
    "num_cols = ['Age']\n",
    "\n",
    "preprocessor = ColumnTransformer([\n",
    "    ('num', StandardScaler(), num_cols),\n",
    "    ('cat', OneHotEncoder(drop='first'), cat_cols)\n",
    "])\n",
    "\n",
    "model = Pipeline(steps=[\n",
    "    ('preprocessor', preprocessor),\n",
    "    ('regressor', LinearRegression())\n",
    "])"
   ]
  },
  {
   "cell_type": "markdown",
   "id": "1f80e443",
   "metadata": {},
   "source": [
    "### 🧠 Model Training and Evaluation"
   ]
  },
  {
   "cell_type": "code",
   "execution_count": null,
   "id": "eab807f9",
   "metadata": {},
   "outputs": [],
   "source": [
    "X_train, X_test, y_train, y_test = train_test_split(X, y, test_size=0.2, random_state=42)\n",
    "\n",
    "model.fit(X_train, y_train)\n",
    "y_pred = model.predict(X_test)\n",
    "\n",
    "print(f\"MAE: {mean_absolute_error(y_test, y_pred):.2f}\")\n",
    "print(f\"MSE: {mean_squared_error(y_test, y_pred):.2f}\")\n",
    "print(f\"RMSE: {np.sqrt(mean_squared_error(y_test, y_pred)):.2f}\")\n",
    "print(f\"R² Score: {r2_score(y_test, y_pred):.2f}\")"
   ]
  },
  {
   "cell_type": "markdown",
   "id": "b698c62e",
   "metadata": {},
   "source": [
    "### 💾 Save the Model"
   ]
  },
  {
   "cell_type": "code",
   "execution_count": null,
   "id": "d2b62f79",
   "metadata": {},
   "outputs": [],
   "source": [
    "joblib.dump(model, 'ghana_income_model.pkl')\n",
    "print(\"Model saved as 'ghana_income_model.pkl'\")"
   ]
  },
  {
   "cell_type": "markdown",
   "id": "93519401",
   "metadata": {},
   "source": [
    "### 🤖 Load Model and Make a Prediction"
   ]
  },
  {
   "cell_type": "code",
   "execution_count": null,
   "id": "ac40a108",
   "metadata": {},
   "outputs": [],
   "source": [
    "sample = pd.DataFrame({\n",
    "    'Age': [30],\n",
    "    'Education': ['Degree'],\n",
    "    'Region': ['Greater Accra'],\n",
    "    'Job Sector': ['Tech']\n",
    "})\n",
    "\n",
    "loaded_model = joblib.load('ghana_income_model.pkl')\n",
    "prediction = loaded_model.predict(sample)\n",
    "\n",
    "print(f\"Predicted Monthly Income: GHS {prediction[0]:.2f}\")"
   ]
  }
 ],
 "metadata": {
  "kernelspec": {
   "display_name": "Python 3",
   "language": "python",
   "name": "python3"
  },
  "language_info": {
   "name": "python",
   "version": "3.9"
  }
 },
 "nbformat": 4,
 "nbformat_minor": 5
}
